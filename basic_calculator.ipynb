{
 "cells": [
  {
   "cell_type": "code",
   "execution_count": 13,
   "metadata": {},
   "outputs": [
    {
     "name": "stdout",
     "output_type": "stream",
     "text": [
      "Enter your first number:9\n",
      "Enter your second number:7\n",
      "Enter the first capital letter of the operation:D\n",
      "The division of 9 by 7 is 1.2857142857142858.\n"
     ]
    }
   ],
   "source": [
    "a = int(input(\"Enter your first number:\")) \n",
    "b = int(input(\"Enter your second number:\")) \n",
    "\n",
    "operation =  input(\"Enter the first capital letter of the operation:\") \n",
    "\n",
    "if (operation == \"A\"): \n",
    "\n",
    "    print(\"The addition of {} and {} is {}.\".format(a,b,a+b))\n",
    "elif (operation == \"S\"):\n",
    "\n",
    "    print(\"The difference of {} and {} is {}.\".format(a,b, a - b))\n",
    "\n",
    "elif (operation == \"M\"):\n",
    "\n",
    "    print(\"The multiplication of {} and {} is {}.\".format(a,b, a * b))\n",
    "\n",
    "elif (operation == \"D\"):\n",
    "\n",
    "    print(\"The division of {} by {} is {}.\".format(a,b, a / b))\n",
    "else:\n",
    "\n",
    "    print(\"Enter a the correct first letter...\")"
   ]
  },
  {
   "cell_type": "code",
   "execution_count": null,
   "metadata": {},
   "outputs": [],
   "source": []
  }
 ],
 "metadata": {
  "kernelspec": {
   "display_name": "Python 3",
   "language": "python",
   "name": "python3"
  },
  "language_info": {
   "codemirror_mode": {
    "name": "ipython",
    "version": 3
   },
   "file_extension": ".py",
   "mimetype": "text/x-python",
   "name": "python",
   "nbconvert_exporter": "python",
   "pygments_lexer": "ipython3",
   "version": "3.6.4"
  }
 },
 "nbformat": 4,
 "nbformat_minor": 2
}
